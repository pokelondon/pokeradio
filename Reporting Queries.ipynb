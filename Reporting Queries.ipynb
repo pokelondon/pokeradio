{
 "metadata": {
  "name": "Reporting Queries"
 },
 "nbformat": 3,
 "nbformat_minor": 0,
 "worksheets": [
  {
   "cells": [
    {
     "cell_type": "code",
     "collapsed": false,
     "input": [
      "from pokeradio.history.models import *\n",
      "from django.contrib.auth.models import User\n",
      "from django.db.models import Count, Q\n",
      "from datetime import datetime, timedelta"
     ],
     "language": "python",
     "metadata": {},
     "outputs": [],
     "prompt_number": 8
    },
    {
     "cell_type": "code",
     "collapsed": false,
     "input": [
      "me = User.objects.get(pk=2)\n",
      "now = datetime.now()\n",
      "a_week = timedelta(weeks=1)\n",
      "this_week = [now - a_week, now]\n",
      "last_week = [dt - a_week for dt in this_week]\n",
      "print [str(i) for i in last_week]\n",
      "print [str(i) for i in this_week]"
     ],
     "language": "python",
     "metadata": {},
     "outputs": [
      {
       "output_type": "stream",
       "stream": "stdout",
       "text": [
        "['2014-01-03 14:19:27.229801', '2014-01-10 14:19:27.229801']\n",
        "['2014-01-10 14:19:27.229801', '2014-01-17 14:19:27.229801']\n"
       ]
      }
     ],
     "prompt_number": 28
    },
    {
     "cell_type": "heading",
     "level": 3,
     "metadata": {},
     "source": [
      "My Tracks"
     ]
    },
    {
     "cell_type": "code",
     "collapsed": false,
     "input": [
      "qs = ArchiveTrack.objects.filter(Q(play__user=me) &\n",
      "                                 Q(play__created__range=last_week))\\\n",
      "        .annotate(plays=Count('play')).order_by('-plays')"
     ],
     "language": "python",
     "metadata": {},
     "outputs": [],
     "prompt_number": 39
    },
    {
     "cell_type": "code",
     "collapsed": false,
     "input": [
      "for i in qs:\n",
      "    print i.plays, i"
     ],
     "language": "python",
     "metadata": {},
     "outputs": [
      {
       "output_type": "stream",
       "stream": "stdout",
       "text": [
        "2 Scatman (ski-ba-bop-ba-dop-bop) - Scatman John\n",
        "1 Test - Scatman John\n"
       ]
      }
     ],
     "prompt_number": 40
    },
    {
     "cell_type": "code",
     "collapsed": false,
     "input": [
      "print qs.query"
     ],
     "language": "python",
     "metadata": {},
     "outputs": [
      {
       "output_type": "stream",
       "stream": "stdout",
       "text": [
        "SELECT `history_archivetrack`.`id`, `history_archivetrack`.`created`, `history_archivetrack`.`name`, `history_archivetrack`.`spotify_href`, `history_archivetrack`.`length`, `history_archivetrack`.`spotify_album_href`, `history_archivetrack`.`artist_id`, COUNT(`history_play`.`id`) AS `plays` FROM `history_archivetrack` LEFT OUTER JOIN `history_play` ON ( `history_archivetrack`.`id` = `history_play`.`track_id` ) WHERE (`history_play`.`user_id` = 2  AND `history_play`.`created` BETWEEN 2014-01-03 14:19:27 and 2014-01-10 14:19:27) GROUP BY `history_archivetrack`.`id` ORDER BY `plays` DESC\n"
       ]
      }
     ],
     "prompt_number": 41
    },
    {
     "cell_type": "heading",
     "level": 2,
     "metadata": {},
     "source": [
      "My Artists"
     ]
    },
    {
     "cell_type": "code",
     "collapsed": false,
     "input": [
      "qs = Artist.objects.filter(Q(archivetrack__play__user=me) &\n",
      "                           Q(archivetrack__play__created__range=last_week))\\\n",
      "        .annotate(plays=Count('archivetrack__play')).order_by('-plays')"
     ],
     "language": "python",
     "metadata": {},
     "outputs": [],
     "prompt_number": 42
    },
    {
     "cell_type": "code",
     "collapsed": false,
     "input": [
      "for i in qs:\n",
      "    print i.plays, i"
     ],
     "language": "python",
     "metadata": {},
     "outputs": [
      {
       "output_type": "stream",
       "stream": "stdout",
       "text": [
        "3 Scatman John\n"
       ]
      }
     ],
     "prompt_number": 43
    },
    {
     "cell_type": "code",
     "collapsed": false,
     "input": [
      "print qs.query"
     ],
     "language": "python",
     "metadata": {},
     "outputs": [
      {
       "output_type": "stream",
       "stream": "stdout",
       "text": [
        "SELECT `history_artist`.`id`, `history_artist`.`created`, `history_artist`.`name`, `history_artist`.`spotify_artist_href`, COUNT(`history_play`.`id`) AS `plays` FROM `history_artist` LEFT OUTER JOIN `history_archivetrack` ON ( `history_artist`.`id` = `history_archivetrack`.`artist_id` ) LEFT OUTER JOIN `history_play` ON ( `history_archivetrack`.`id` = `history_play`.`track_id` ) WHERE (`history_play`.`user_id` = 2  AND `history_play`.`created` BETWEEN 2014-01-03 14:19:27 and 2014-01-10 14:19:27) GROUP BY `history_artist`.`id` ORDER BY `plays` DESC\n"
       ]
      }
     ],
     "prompt_number": 44
    },
    {
     "cell_type": "code",
     "collapsed": false,
     "input": [],
     "language": "python",
     "metadata": {},
     "outputs": []
    }
   ],
   "metadata": {}
  }
 ]
}