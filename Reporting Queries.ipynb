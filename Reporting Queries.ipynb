{
 "metadata": {
  "name": "Reporting Queries"
 },
 "nbformat": 3,
 "nbformat_minor": 0,
 "worksheets": [
  {
   "cells": [
    {
     "cell_type": "code",
     "collapsed": false,
     "input": [
      "from pokeradio.history.models import *\n",
      "from django.contrib.auth.models import User\n",
      "from django.db.models import Count, Q, Sum\n",
      "from datetime import datetime, timedelta"
     ],
     "language": "python",
     "metadata": {},
     "outputs": [
      {
       "output_type": "stream",
       "stream": "stderr",
       "text": [
        "/home/vagrant/.virtualenvs/pokeradio/local/lib/python2.7/site-packages/setuptools-2.1-py2.7.egg/pkg_resources.py:975: UserWarning: /home/vagrant/.python-eggs is writable by group/others and vulnerable to attack when used with get_resource_filename. Consider a more secure location (set with .set_extraction_path or the PYTHON_EGG_CACHE environment variable).\n",
        "\n"
       ]
      },
      {
       "output_type": "stream",
       "stream": "stderr",
       "text": [
        "WARNING:py.warnings:/home/vagrant/.virtualenvs/pokeradio/local/lib/python2.7/site-packages/setuptools-2.1-py2.7.egg/pkg_resources.py:975: UserWarning: /home/vagrant/.python-eggs is writable by group/others and vulnerable to attack when used with get_resource_filename. Consider a more secure location (set with .set_extraction_path or the PYTHON_EGG_CACHE environment variable).\n",
        "\n"
       ]
      }
     ],
     "prompt_number": 1
    },
    {
     "cell_type": "code",
     "collapsed": false,
     "input": [
      "me = User.objects.get(pk=2)\n",
      "now = datetime.now()\n",
      "a_week = timedelta(weeks=1)\n",
      "this_week = [now - a_week, now]\n",
      "last_week = [dt - a_week for dt in this_week]\n",
      "print [str(i) for i in last_week]\n",
      "print [str(i) for i in this_week]"
     ],
     "language": "python",
     "metadata": {},
     "outputs": [
      {
       "output_type": "stream",
       "stream": "stdout",
       "text": [
        "['2014-01-09 14:32:38.622933', '2014-01-16 14:32:38.622933']\n",
        "['2014-01-16 14:32:38.622933', '2014-01-23 14:32:38.622933']\n"
       ]
      }
     ],
     "prompt_number": 2
    },
    {
     "cell_type": "heading",
     "level": 3,
     "metadata": {},
     "source": [
      "My Tracks"
     ]
    },
    {
     "cell_type": "code",
     "collapsed": false,
     "input": [
      "qs = ArchiveTrack.objects.filter(Q(play__user=me) &\n",
      "                                 Q(play__created__range=this_week))\\\n",
      "        .annotate(plays=Count('play')).order_by('-plays')"
     ],
     "language": "python",
     "metadata": {},
     "outputs": [],
     "prompt_number": 3
    },
    {
     "cell_type": "code",
     "collapsed": false,
     "input": [
      "for i in qs:\n",
      "    plays = i.play_set.all().annotate(users=Count('user'))\n",
      "    print i.plays, i\n",
      "    for play in plays:\n",
      "        print play.user"
     ],
     "language": "python",
     "metadata": {},
     "outputs": [
      {
       "output_type": "stream",
       "stream": "stdout",
       "text": [
        "5 Scatman (ski-ba-bop-ba-dop-bop) - Scatman John\n",
        "eric\n",
        "eric\n",
        "eric\n",
        "eric\n",
        "eric\n",
        "4 Protection - Massive Attack\n",
        "eric\n",
        "eric\n",
        "eric\n",
        "eric\n",
        "2 No More Conversations - Mylo Mix - Freeform Five\n",
        "eric\n",
        "eric\n",
        "2 Roads - Portishead\n",
        "eric\n",
        "eric\n",
        "1 Sour Times - Portishead\n",
        "eric\n",
        "1 Hell Is Round The Corner - 2009 Remix - Tricky\n",
        "eric\n",
        "1 Waiting For The Miracle - Leonard Cohen\n",
        "eric\n",
        "1 Compliments 2 the Chef (feat. Lauriana Mae) - Action Bronson\n",
        "eric\n",
        "1 Heroes - Roni Size\n",
        "eric\n",
        "1 Numb - Portishead\n",
        "gavin\n",
        "eric"
       ]
      },
      {
       "output_type": "stream",
       "stream": "stdout",
       "text": [
        "\n",
        "1 Hell Is Round The Corner - Tricky\n",
        "eric\n",
        "ricardo\n",
        "1 Shining Star - Joe Goddard Remix - Nneka\n",
        "eric\n",
        "1 Roygbiv - Boards of Canada\n",
        "eric\n",
        "1 Strandwetter - Nico Pusch\n",
        "eric\n",
        "1 Barra Barra - Rachid Taha\n",
        "eric\n",
        "1 The Force - Aim\n",
        "eric\n",
        "1 Printer Jam - Mistabishi\n",
        "eric\n",
        "1 Messiah Complex - Delusionists\n",
        "eric\n",
        "1 Over - TCTS\n",
        "eric\n",
        "1 Original Stuntmaster - Aim\n",
        "eric\n",
        "1 Valley of the Sausages - Mr. Scruff\n",
        "eric\n",
        "1 Meth Lab Zoso Sticker - 7Horse\n",
        "james\n",
        "eric\n",
        "1 Rock It - Sub Focus\n",
        "eric\n",
        "1 Little Green Bag - George Baker Selection\n",
        "eric\n",
        "1 Inspector Norse - Todd Terje\n",
        "eric"
       ]
      },
      {
       "output_type": "stream",
       "stream": "stdout",
       "text": [
        "\n",
        "1 Warning Sign - Shapeshifter\n",
        "eric\n",
        "1 Just Passsin' Through - Aim\n",
        "eric\n",
        "1 Get A Life (feat. Bobby Womack) - Regrind '09 - Rae & Christian\n",
        "eric\n",
        "1 How You Like Me Now - The Heavy\n",
        "eric\n",
        "1 Brown Paper Bag - 2008 Re-edit - Roni Size\n",
        "eric\n",
        "1 Candles - Original Mix - Alex Reece\n",
        "eric\n",
        "1 Hello Meow - Squarepusher\n",
        "eric\n",
        "1 P\u00e4\u00e4teasema - Fanu\n",
        "eric\n",
        "1 Race : In - Battles\n",
        "eric\n",
        "1 Gravel Pit - Wu-Tang Clan\n",
        "eric\n",
        "1 Finally Moving - Pretty Lights\n",
        "eric\n",
        "1 Nowhere - Original Mix - Maya Jane Coles\n",
        "eric\n",
        "1 Dirt In The Ground - Tom Waits\n",
        "eric\n",
        "1 Red Right Hand - Nick Cave & The Bad Seeds\n",
        "eric\n",
        "1 Bop - Brandt Brauer Frick\n",
        "eric"
       ]
      },
      {
       "output_type": "stream",
       "stream": "stdout",
       "text": [
        "\n",
        "1 Over - Maya Jane Coles\n",
        "eric\n",
        "1 Psycho Killer - 2005 Remastered - Talking Heads\n",
        "eric\n",
        "1 Karmacoma - Massive Attack\n",
        "eric\n",
        "1 Right On - The Roots\n",
        "eric\n",
        "1 Fot I hose - Casio Kids\n",
        "eric\n",
        "1 Soon Come - Shy Fx\n",
        "eric\n",
        "1 Animus Vox - The Glitch Mob\n",
        "eric\n"
       ]
      }
     ],
     "prompt_number": 9
    },
    {
     "cell_type": "code",
     "collapsed": false,
     "input": [
      "print qs.query"
     ],
     "language": "python",
     "metadata": {},
     "outputs": [
      {
       "output_type": "stream",
       "stream": "stdout",
       "text": [
        "SELECT `history_archivetrack`.`id`, `history_archivetrack`.`created`, `history_archivetrack`.`name`, `history_archivetrack`.`spotify_href`, `history_archivetrack`.`length`, `history_archivetrack`.`spotify_album_href`, `history_archivetrack`.`artist_id`, COUNT(`history_play`.`id`) AS `plays` FROM `history_archivetrack` LEFT OUTER JOIN `history_play` ON ( `history_archivetrack`.`id` = `history_play`.`track_id` ) WHERE (`history_play`.`user_id` = 2  AND `history_play`.`created` BETWEEN 2014-01-03 14:24:57 and 2014-01-10 14:24:57) GROUP BY `history_archivetrack`.`id` ORDER BY `plays` DESC\n"
       ]
      }
     ],
     "prompt_number": 5
    },
    {
     "cell_type": "heading",
     "level": 2,
     "metadata": {},
     "source": [
      "My Artists"
     ]
    },
    {
     "cell_type": "code",
     "collapsed": false,
     "input": [
      "qs = Artist.objects.filter(Q(archivetrack__play__user=me) &\n",
      "                           Q(archivetrack__play__created__range=last_week))\\\n",
      "        .annotate(plays=Count('archivetrack__play')).order_by('-plays')"
     ],
     "language": "python",
     "metadata": {},
     "outputs": [],
     "prompt_number": 6
    },
    {
     "cell_type": "code",
     "collapsed": false,
     "input": [
      "for i in qs:\n",
      "    print i.plays, i"
     ],
     "language": "python",
     "metadata": {},
     "outputs": [
      {
       "output_type": "stream",
       "stream": "stdout",
       "text": [
        "3 Scatman John\n",
        "1 Banjo Bob\n"
       ]
      }
     ],
     "prompt_number": 7
    },
    {
     "cell_type": "code",
     "collapsed": false,
     "input": [
      "print qs.query"
     ],
     "language": "python",
     "metadata": {},
     "outputs": [
      {
       "output_type": "stream",
       "stream": "stdout",
       "text": [
        "SELECT `history_artist`.`id`, `history_artist`.`created`, `history_artist`.`name`, `history_artist`.`spotify_artist_href`, COUNT(`history_play`.`id`) AS `plays` FROM `history_artist` LEFT OUTER JOIN `history_archivetrack` ON ( `history_artist`.`id` = `history_archivetrack`.`artist_id` ) LEFT OUTER JOIN `history_play` ON ( `history_archivetrack`.`id` = `history_play`.`track_id` ) WHERE (`history_play`.`user_id` = 2  AND `history_play`.`created` BETWEEN 2014-01-03 14:24:57 and 2014-01-10 14:24:57) GROUP BY `history_artist`.`id` ORDER BY `plays` DESC\n"
       ]
      }
     ],
     "prompt_number": 8
    },
    {
     "cell_type": "code",
     "collapsed": false,
     "input": [],
     "language": "python",
     "metadata": {},
     "outputs": []
    }
   ],
   "metadata": {}
  }
 ]
}