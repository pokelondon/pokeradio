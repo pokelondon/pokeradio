{
 "metadata": {
  "name": "Reporting Queries-Copy0"
 },
 "nbformat": 3,
 "nbformat_minor": 0,
 "worksheets": [
  {
   "cells": [
    {
     "cell_type": "code",
     "collapsed": false,
     "input": [
      "from pokeradio.history.models import *\n",
      "from django.contrib.auth.models import User\n",
      "from django.db.models import Count, Q\n",
      "from datetime import datetime, timedelta"
     ],
     "language": "python",
     "metadata": {},
     "outputs": [],
     "prompt_number": 1
    },
    {
     "cell_type": "code",
     "collapsed": false,
     "input": [
      "me = User.objects.get(pk=2)\n",
      "now = datetime.now()\n",
      "a_week = timedelta(weeks=1)\n",
      "this_week = [now - a_week, now]\n",
      "last_week = [dt - a_week for dt in this_week]\n",
      "print [str(i) for i in last_week]\n",
      "print [str(i) for i in this_week]"
     ],
     "language": "python",
     "metadata": {},
     "outputs": [
      {
       "output_type": "stream",
       "stream": "stdout",
       "text": [
        "['2014-01-03 14:24:57.712500', '2014-01-10 14:24:57.712500']\n",
        "['2014-01-10 14:24:57.712500', '2014-01-17 14:24:57.712500']\n"
       ]
      }
     ],
     "prompt_number": 2
    },
    {
     "cell_type": "heading",
     "level": 3,
     "metadata": {},
     "source": [
      "My Tracks"
     ]
    },
    {
     "cell_type": "code",
     "collapsed": false,
     "input": [
      "qs = ArchiveTrack.objects.filter(Q(play__user=me) &\n",
      "                                 Q(play__created__range=last_week))\\\n",
      "        .annotate(plays=Count('play')).order_by('-plays')"
     ],
     "language": "python",
     "metadata": {},
     "outputs": [],
     "prompt_number": 3
    },
    {
     "cell_type": "code",
     "collapsed": false,
     "input": [
      "for i in qs:\n",
      "    print i.plays, i"
     ],
     "language": "python",
     "metadata": {},
     "outputs": [
      {
       "output_type": "stream",
       "stream": "stdout",
       "text": [
        "2 Scatman (ski-ba-bop-ba-dop-bop) - Scatman John\n",
        "1 Test - Scatman John\n",
        "1 Bobs track - Banjo Bob\n"
       ]
      }
     ],
     "prompt_number": 4
    },
    {
     "cell_type": "code",
     "collapsed": false,
     "input": [
      "print qs.query"
     ],
     "language": "python",
     "metadata": {},
     "outputs": [
      {
       "output_type": "stream",
       "stream": "stdout",
       "text": [
        "SELECT `history_archivetrack`.`id`, `history_archivetrack`.`created`, `history_archivetrack`.`name`, `history_archivetrack`.`spotify_href`, `history_archivetrack`.`length`, `history_archivetrack`.`spotify_album_href`, `history_archivetrack`.`artist_id`, COUNT(`history_play`.`id`) AS `plays` FROM `history_archivetrack` LEFT OUTER JOIN `history_play` ON ( `history_archivetrack`.`id` = `history_play`.`track_id` ) WHERE (`history_play`.`user_id` = 2  AND `history_play`.`created` BETWEEN 2014-01-03 14:24:57 and 2014-01-10 14:24:57) GROUP BY `history_archivetrack`.`id` ORDER BY `plays` DESC\n"
       ]
      }
     ],
     "prompt_number": 5
    },
    {
     "cell_type": "heading",
     "level": 2,
     "metadata": {},
     "source": [
      "My Artists"
     ]
    },
    {
     "cell_type": "code",
     "collapsed": false,
     "input": [
      "qs = Artist.objects.filter(Q(archivetrack__play__user=me) &\n",
      "                           Q(archivetrack__play__created__range=last_week))\\\n",
      "        .annotate(plays=Count('archivetrack__play')).order_by('-plays')"
     ],
     "language": "python",
     "metadata": {},
     "outputs": [],
     "prompt_number": 6
    },
    {
     "cell_type": "code",
     "collapsed": false,
     "input": [
      "for i in qs:\n",
      "    print i.plays, i"
     ],
     "language": "python",
     "metadata": {},
     "outputs": [
      {
       "output_type": "stream",
       "stream": "stdout",
       "text": [
        "3 Scatman John\n",
        "1 Banjo Bob\n"
       ]
      }
     ],
     "prompt_number": 7
    },
    {
     "cell_type": "code",
     "collapsed": false,
     "input": [
      "print qs.query"
     ],
     "language": "python",
     "metadata": {},
     "outputs": [
      {
       "output_type": "stream",
       "stream": "stdout",
       "text": [
        "SELECT `history_artist`.`id`, `history_artist`.`created`, `history_artist`.`name`, `history_artist`.`spotify_artist_href`, COUNT(`history_play`.`id`) AS `plays` FROM `history_artist` LEFT OUTER JOIN `history_archivetrack` ON ( `history_artist`.`id` = `history_archivetrack`.`artist_id` ) LEFT OUTER JOIN `history_play` ON ( `history_archivetrack`.`id` = `history_play`.`track_id` ) WHERE (`history_play`.`user_id` = 2  AND `history_play`.`created` BETWEEN 2014-01-03 14:24:57 and 2014-01-10 14:24:57) GROUP BY `history_artist`.`id` ORDER BY `plays` DESC\n"
       ]
      }
     ],
     "prompt_number": 8
    },
    {
     "cell_type": "code",
     "collapsed": false,
     "input": [],
     "language": "python",
     "metadata": {},
     "outputs": []
    }
   ],
   "metadata": {}
  }
 ]
}