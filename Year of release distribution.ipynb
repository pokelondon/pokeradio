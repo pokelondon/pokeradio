{
 "metadata": {
  "name": "Year of release distribution"
 },
 "nbformat": 3,
 "nbformat_minor": 0,
 "worksheets": [
  {
   "cells": [
    {
     "cell_type": "code",
     "collapsed": false,
     "input": [
      "import requests\n",
      "import collections\n",
      "import plotly\n",
      "import random\n",
      "import time\n",
      "import redis\n",
      "\n",
      "from math import sqrt\n",
      "\n",
      "from pokeradio.history.models import *\n",
      "from django.contrib.auth.models import User\n",
      "from django.db.models import Count, Q, Sum\n",
      "from datetime import datetime, timedelta\n",
      "\n"
     ],
     "language": "python",
     "metadata": {},
     "outputs": [],
     "prompt_number": 54
    },
    {
     "cell_type": "code",
     "collapsed": false,
     "input": [
      "ws = 'http://ws.spotify.com/lookup/1/.json?uri={0}'"
     ],
     "language": "python",
     "metadata": {},
     "outputs": [],
     "prompt_number": 2
    },
    {
     "cell_type": "code",
     "collapsed": false,
     "input": [
      "now = datetime.now()\n",
      "a_week = timedelta(weeks=1)\n",
      "this_week = [now - a_week, now]\n",
      "last_week = [dt - a_week for dt in this_week]\n",
      "print [str(i) for i in last_week]\n",
      "print [str(i) for i in this_week]"
     ],
     "language": "python",
     "metadata": {},
     "outputs": [
      {
       "output_type": "stream",
       "stream": "stdout",
       "text": [
        "['2014-01-10 09:57:14.216618', '2014-01-17 09:57:14.216618']\n",
        "['2014-01-17 09:57:14.216618', '2014-01-24 09:57:14.216618']\n"
       ]
      }
     ],
     "prompt_number": 3
    },
    {
     "cell_type": "heading",
     "level": 3,
     "metadata": {},
     "source": [
      "My Tracks"
     ]
    },
    {
     "cell_type": "code",
     "collapsed": false,
     "input": [
      "qs = ArchiveTrack.objects.filter(Q(play__created__range=this_week))\\\n",
      "        .annotate(plays=Count('play')).order_by('-plays')"
     ],
     "language": "python",
     "metadata": {},
     "outputs": [],
     "prompt_number": 120
    },
    {
     "cell_type": "code",
     "collapsed": false,
     "input": [
      "class Year:\n",
      "    request_count = 0\n",
      "    SLEEP = 1\n",
      "    RATE_INTERVAL = 5\n",
      "    \n",
      "    def __init__(self):\n",
      "        self.r = redis.StrictRedis()\n",
      "    \n",
      "    def get_year(self, spotify_id):\n",
      "        didsleep = False\n",
      "        key = 'year:{0}'.format(spotify_id)\n",
      "        year = self.r.get(key)\n",
      "        if year:\n",
      "            return year, didsleep\n",
      "\n",
      "        else:\n",
      "            if self.request_count % self.RATE_INTERVAL == 0:\n",
      "                print \"Pause\"\n",
      "                time.sleep(self.SLEEP)\n",
      "                didsleep = True\n",
      "                \n",
      "            self.request_count += 1                \n",
      "            res = requests.get(ws.format(spotify_id))\n",
      "            data = res.json()\n",
      "\n",
      "            try:\n",
      "                year = data['track']['album']['released']\n",
      "            except KeyError:\n",
      "                year = None\n",
      "                \n",
      "            self.r.set(key, year)\n",
      "            if year:\n",
      "                return year, didsleep\n"
     ],
     "language": "python",
     "metadata": {},
     "outputs": [],
     "prompt_number": 121
    },
    {
     "cell_type": "code",
     "collapsed": false,
     "input": [
      "consolodated = {}\n",
      "total = qs.count()\n",
      "y = Year()\n",
      "for count, item in enumerate(qs):\n",
      "    year, didsleep = y.get_year(item.spotify_href)\n",
      "    \n",
      "    if count % 10 == 0:\n",
      "        print float(count) / total * 100, '%', y.request_count\n",
      "\n",
      "    if not year:\n",
      "        pass\n",
      "\n",
      "    if year in consolodated:\n",
      "        consolodated[year].append(i)\n",
      "    else:\n",
      "        consolodated[year] = [i]"
     ],
     "language": "python",
     "metadata": {},
     "outputs": [
      {
       "output_type": "stream",
       "stream": "stdout",
       "text": [
        "0.0 % 0\n",
        "2.89855072464 % 0\n",
        "5.79710144928 % 0\n",
        "8.69565217391 % 0\n",
        "11.5942028986 % 0\n",
        "14.4927536232 % 0\n",
        "Pause\n",
        "17.3913043478"
       ]
      },
      {
       "output_type": "stream",
       "stream": "stdout",
       "text": [
        " % 1\n",
        "Pause"
       ]
      },
      {
       "output_type": "stream",
       "stream": "stdout",
       "text": [
        "\n",
        "Pause"
       ]
      },
      {
       "output_type": "stream",
       "stream": "stdout",
       "text": [
        "\n",
        "20.2898550725"
       ]
      },
      {
       "output_type": "stream",
       "stream": "stdout",
       "text": [
        " % 11\n",
        "Pause"
       ]
      },
      {
       "output_type": "stream",
       "stream": "stdout",
       "text": [
        "\n",
        "Pause"
       ]
      },
      {
       "output_type": "stream",
       "stream": "stdout",
       "text": [
        "\n",
        "23.1884057971"
       ]
      },
      {
       "output_type": "stream",
       "stream": "stdout",
       "text": [
        " % 21\n",
        "Pause"
       ]
      },
      {
       "output_type": "stream",
       "stream": "stdout",
       "text": [
        "\n",
        "Pause"
       ]
      },
      {
       "output_type": "stream",
       "stream": "stdout",
       "text": [
        "\n",
        "26.0869565217"
       ]
      },
      {
       "output_type": "stream",
       "stream": "stdout",
       "text": [
        " % 31\n",
        "Pause"
       ]
      },
      {
       "output_type": "stream",
       "stream": "stdout",
       "text": [
        "\n",
        "Pause"
       ]
      },
      {
       "output_type": "stream",
       "stream": "stdout",
       "text": [
        "\n",
        "28.9855072464"
       ]
      },
      {
       "output_type": "stream",
       "stream": "stdout",
       "text": [
        " % 41\n",
        "Pause"
       ]
      },
      {
       "output_type": "stream",
       "stream": "stdout",
       "text": [
        "\n",
        "Pause"
       ]
      },
      {
       "output_type": "stream",
       "stream": "stdout",
       "text": [
        "\n",
        "31.884057971"
       ]
      },
      {
       "output_type": "stream",
       "stream": "stdout",
       "text": [
        " % 51\n",
        "Pause"
       ]
      },
      {
       "output_type": "stream",
       "stream": "stdout",
       "text": [
        "\n",
        "Pause"
       ]
      },
      {
       "output_type": "stream",
       "stream": "stdout",
       "text": [
        "\n",
        "34.7826086957"
       ]
      },
      {
       "output_type": "stream",
       "stream": "stdout",
       "text": [
        " % 61\n",
        "Pause"
       ]
      },
      {
       "output_type": "stream",
       "stream": "stdout",
       "text": [
        "\n",
        "Pause"
       ]
      },
      {
       "output_type": "stream",
       "stream": "stdout",
       "text": [
        "\n",
        "37.6811594203"
       ]
      },
      {
       "output_type": "stream",
       "stream": "stdout",
       "text": [
        " % 71\n",
        "Pause"
       ]
      },
      {
       "output_type": "stream",
       "stream": "stdout",
       "text": [
        "\n",
        "Pause"
       ]
      },
      {
       "output_type": "stream",
       "stream": "stdout",
       "text": [
        "\n",
        "40.5797101449"
       ]
      },
      {
       "output_type": "stream",
       "stream": "stdout",
       "text": [
        " % 81\n",
        "Pause"
       ]
      },
      {
       "output_type": "stream",
       "stream": "stdout",
       "text": [
        "\n",
        "Pause"
       ]
      },
      {
       "output_type": "stream",
       "stream": "stdout",
       "text": [
        "\n",
        "43.4782608696"
       ]
      },
      {
       "output_type": "stream",
       "stream": "stdout",
       "text": [
        " % 91\n",
        "Pause"
       ]
      },
      {
       "output_type": "stream",
       "stream": "stdout",
       "text": [
        "\n",
        "Pause"
       ]
      },
      {
       "output_type": "stream",
       "stream": "stdout",
       "text": [
        "\n",
        "46.3768115942"
       ]
      },
      {
       "output_type": "stream",
       "stream": "stdout",
       "text": [
        " % 101\n",
        "Pause"
       ]
      },
      {
       "output_type": "stream",
       "stream": "stdout",
       "text": [
        "\n",
        "Pause"
       ]
      },
      {
       "output_type": "stream",
       "stream": "stdout",
       "text": [
        "\n",
        "49.2753623188"
       ]
      },
      {
       "output_type": "stream",
       "stream": "stdout",
       "text": [
        " % 111\n",
        "Pause"
       ]
      },
      {
       "output_type": "stream",
       "stream": "stdout",
       "text": [
        "\n",
        "Pause"
       ]
      },
      {
       "output_type": "stream",
       "stream": "stdout",
       "text": [
        "\n",
        "52.1739130435"
       ]
      },
      {
       "output_type": "stream",
       "stream": "stdout",
       "text": [
        " % 121\n",
        "Pause"
       ]
      },
      {
       "output_type": "stream",
       "stream": "stdout",
       "text": [
        "\n",
        "Pause"
       ]
      },
      {
       "output_type": "stream",
       "stream": "stdout",
       "text": [
        "\n",
        "55.0724637681"
       ]
      },
      {
       "output_type": "stream",
       "stream": "stdout",
       "text": [
        " % 131\n",
        "Pause"
       ]
      },
      {
       "output_type": "stream",
       "stream": "stdout",
       "text": [
        "\n",
        "Pause"
       ]
      },
      {
       "output_type": "stream",
       "stream": "stdout",
       "text": [
        "\n",
        "57.9710144928"
       ]
      },
      {
       "output_type": "stream",
       "stream": "stdout",
       "text": [
        " % 141\n",
        "Pause"
       ]
      },
      {
       "output_type": "stream",
       "stream": "stdout",
       "text": [
        "\n",
        "Pause"
       ]
      },
      {
       "output_type": "stream",
       "stream": "stdout",
       "text": [
        "\n",
        "60.8695652174"
       ]
      },
      {
       "output_type": "stream",
       "stream": "stdout",
       "text": [
        " % 151\n",
        "Pause"
       ]
      },
      {
       "output_type": "stream",
       "stream": "stdout",
       "text": [
        "\n",
        "Pause"
       ]
      },
      {
       "output_type": "stream",
       "stream": "stdout",
       "text": [
        "\n",
        "63.768115942"
       ]
      },
      {
       "output_type": "stream",
       "stream": "stdout",
       "text": [
        " % 161\n",
        "Pause"
       ]
      },
      {
       "output_type": "stream",
       "stream": "stdout",
       "text": [
        "\n",
        "Pause"
       ]
      },
      {
       "output_type": "stream",
       "stream": "stdout",
       "text": [
        "\n",
        "66.6666666667"
       ]
      },
      {
       "output_type": "stream",
       "stream": "stdout",
       "text": [
        " % 171\n",
        "Pause"
       ]
      },
      {
       "output_type": "stream",
       "stream": "stdout",
       "text": [
        "\n",
        "Pause"
       ]
      },
      {
       "output_type": "stream",
       "stream": "stdout",
       "text": [
        "\n",
        "69.5652173913"
       ]
      },
      {
       "output_type": "stream",
       "stream": "stdout",
       "text": [
        " % 181\n",
        "Pause"
       ]
      },
      {
       "output_type": "stream",
       "stream": "stdout",
       "text": [
        "\n",
        "Pause"
       ]
      },
      {
       "output_type": "stream",
       "stream": "stdout",
       "text": [
        "\n",
        "72.4637681159"
       ]
      },
      {
       "output_type": "stream",
       "stream": "stdout",
       "text": [
        " % 191\n",
        "Pause"
       ]
      },
      {
       "output_type": "stream",
       "stream": "stdout",
       "text": [
        "\n",
        "Pause"
       ]
      },
      {
       "output_type": "stream",
       "stream": "stdout",
       "text": [
        "\n",
        "75.3623188406"
       ]
      },
      {
       "output_type": "stream",
       "stream": "stdout",
       "text": [
        " % 201\n",
        "Pause"
       ]
      },
      {
       "output_type": "stream",
       "stream": "stdout",
       "text": [
        "\n",
        "Pause"
       ]
      },
      {
       "output_type": "stream",
       "stream": "stdout",
       "text": [
        "\n",
        "78.2608695652"
       ]
      },
      {
       "output_type": "stream",
       "stream": "stdout",
       "text": [
        " % 211\n",
        "Pause"
       ]
      },
      {
       "output_type": "stream",
       "stream": "stdout",
       "text": [
        "\n",
        "Pause"
       ]
      },
      {
       "output_type": "stream",
       "stream": "stdout",
       "text": [
        "\n",
        "81.1594202899"
       ]
      },
      {
       "output_type": "stream",
       "stream": "stdout",
       "text": [
        " % 221\n",
        "Pause"
       ]
      },
      {
       "output_type": "stream",
       "stream": "stdout",
       "text": [
        "\n",
        "Pause"
       ]
      },
      {
       "output_type": "stream",
       "stream": "stdout",
       "text": [
        "\n",
        "84.0579710145"
       ]
      },
      {
       "output_type": "stream",
       "stream": "stdout",
       "text": [
        " % 231\n",
        "Pause"
       ]
      },
      {
       "output_type": "stream",
       "stream": "stdout",
       "text": [
        "\n",
        "Pause"
       ]
      },
      {
       "output_type": "stream",
       "stream": "stdout",
       "text": [
        "\n",
        "86.9565217391"
       ]
      },
      {
       "output_type": "stream",
       "stream": "stdout",
       "text": [
        " % 241\n",
        "Pause"
       ]
      },
      {
       "output_type": "stream",
       "stream": "stdout",
       "text": [
        "\n",
        "Pause"
       ]
      },
      {
       "output_type": "stream",
       "stream": "stdout",
       "text": [
        "\n",
        "89.8550724638"
       ]
      },
      {
       "output_type": "stream",
       "stream": "stdout",
       "text": [
        " % 251\n",
        "Pause"
       ]
      },
      {
       "output_type": "stream",
       "stream": "stdout",
       "text": [
        "\n",
        "Pause"
       ]
      },
      {
       "output_type": "stream",
       "stream": "stdout",
       "text": [
        "\n",
        "92.7536231884"
       ]
      },
      {
       "output_type": "stream",
       "stream": "stdout",
       "text": [
        " % 261\n",
        "Pause"
       ]
      },
      {
       "output_type": "stream",
       "stream": "stdout",
       "text": [
        "\n",
        "Pause"
       ]
      },
      {
       "output_type": "stream",
       "stream": "stdout",
       "text": [
        "\n",
        "95.652173913"
       ]
      },
      {
       "output_type": "stream",
       "stream": "stdout",
       "text": [
        " % 271\n",
        "Pause"
       ]
      },
      {
       "output_type": "stream",
       "stream": "stdout",
       "text": [
        "\n",
        "Pause"
       ]
      },
      {
       "output_type": "stream",
       "stream": "stdout",
       "text": [
        "\n",
        "98.5507246377"
       ]
      },
      {
       "output_type": "stream",
       "stream": "stdout",
       "text": [
        " % 281\n"
       ]
      }
     ],
     "prompt_number": 122
    },
    {
     "cell_type": "code",
     "collapsed": false,
     "input": [
      "consolodated = collections.OrderedDict(sorted(consolodated.items()))\n",
      "for year, tracks in consolodated.iteritems():\n",
      "    print year, len(tracks)"
     ],
     "language": "python",
     "metadata": {},
     "outputs": [
      {
       "output_type": "stream",
       "stream": "stdout",
       "text": [
        "1958 1\n",
        "1967 1\n",
        "1969 3\n",
        "1970 1\n",
        "1971 4\n",
        "1972 1\n",
        "1973 1\n",
        "1975 1\n",
        "1976 2\n",
        "1977 3\n",
        "1978 1\n",
        "1979 1\n",
        "1980 2\n",
        "1983 2\n",
        "1984 1\n",
        "1987 1\n",
        "1989 1\n",
        "1990 4\n",
        "1991 3\n",
        "1992 6\n",
        "1993 7\n",
        "1994 9\n",
        "1995 7\n",
        "1996 4\n",
        "1997 5\n",
        "1998 7\n",
        "1999 8\n",
        "2000 5\n",
        "2001 7\n",
        "2002 6\n",
        "2003 12\n",
        "2004 5\n",
        "2005 8\n",
        "2006 12\n",
        "2007 12\n",
        "2008 20\n",
        "2009 25\n",
        "2010 26\n",
        "2011 28\n",
        "2012 28\n",
        "2013 62\n",
        "2014 1\n",
        "None 1\n"
       ]
      }
     ],
     "prompt_number": 123
    },
    {
     "cell_type": "code",
     "collapsed": false,
     "input": [
      "py = plotly.plotly(username_or_email='EricGeorge', key='cp9m5tn1ix')"
     ],
     "language": "python",
     "metadata": {},
     "outputs": [],
     "prompt_number": 114
    },
    {
     "cell_type": "code",
     "collapsed": false,
     "input": [
      "l = {'autosize': False,'width': 1200, 'height': 600, 'showlegend': False,\n",
      " \t'xaxis' : {\"linecolor\": \"rgba(0, 0, 0, 0)\",\"ticks\":\"\", \n",
      "                \"showgrid\": True, \"zeroline\": False, \"showticklabels\": True},\n",
      "\t    \n",
      "\t 'yaxis' : {\"linecolor\": \"rgba(0, 0, 0, 0)\", \"ticks\": \"\",\n",
      "                \"showgrid\": True, \"zeroline\": True, \"showticklabels\": True}}"
     ],
     "language": "python",
     "metadata": {},
     "outputs": [],
     "prompt_number": 125
    },
    {
     "cell_type": "code",
     "collapsed": false,
     "input": [
      "py.iplot([{'y': [len(i) for i in consolodated.values()],\n",
      "           'x': consolodated.keys(),\n",
      "           'type': 'bar'}], layout=l)"
     ],
     "language": "python",
     "metadata": {},
     "outputs": [
      {
       "html": [
        "<iframe height=\"500\" id=\"igraph\" scrolling=\"no\" seamless=\"seamless\" src=\"https://plot.ly/~EricGeorge/14/600/450\" width=\"650\"></iframe>"
       ],
       "output_type": "pyout",
       "prompt_number": 126,
       "text": [
        "<IPython.core.display.HTML at 0xac4432c>"
       ]
      }
     ],
     "prompt_number": 126
    },
    {
     "cell_type": "heading",
     "level": 3,
     "metadata": {},
     "source": [
      "Total Play time"
     ]
    },
    {
     "cell_type": "code",
     "collapsed": false,
     "input": [
      "qs = Play.objects.filter(Q(created__range=this_week))"
     ],
     "language": "python",
     "metadata": {},
     "outputs": [],
     "prompt_number": 117
    },
    {
     "cell_type": "code",
     "collapsed": false,
     "input": [
      "sum([p.track.length for p in qs]) / 60 / 60"
     ],
     "language": "python",
     "metadata": {},
     "outputs": [
      {
       "output_type": "pyout",
       "prompt_number": 118,
       "text": [
        "27.634242222222227"
       ]
      }
     ],
     "prompt_number": 118
    }
   ],
   "metadata": {}
  }
 ]
}