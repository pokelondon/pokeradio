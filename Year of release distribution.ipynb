{
 "metadata": {
  "name": "Year of release distribution"
 },
 "nbformat": 3,
 "nbformat_minor": 0,
 "worksheets": [
  {
   "cells": [
    {
     "cell_type": "code",
     "collapsed": false,
     "input": [
      "import requests\n",
      "import collections\n",
      "import plotly\n",
      "import random\n",
      "import time\n",
      "import redis\n",
      "\n",
      "from math import sqrt\n",
      "\n",
      "from pokeradio.history.models import *\n",
      "from django.contrib.auth.models import User\n",
      "from django.db.models import Count, Q, Sum\n",
      "from datetime import datetime, timedelta\n",
      "\n"
     ],
     "language": "python",
     "metadata": {},
     "outputs": [
      {
       "output_type": "stream",
       "stream": "stderr",
       "text": [
        "/home/vagrant/.virtualenvs/pokeradio/local/lib/python2.7/site-packages/setuptools-2.1-py2.7.egg/pkg_resources.py:975: UserWarning: /home/vagrant/.python-eggs is writable by group/others and vulnerable to attack when used with get_resource_filename. Consider a more secure location (set with .set_extraction_path or the PYTHON_EGG_CACHE environment variable).\n",
        "\n"
       ]
      },
      {
       "output_type": "stream",
       "stream": "stderr",
       "text": [
        "WARNING:py.warnings:/home/vagrant/.virtualenvs/pokeradio/local/lib/python2.7/site-packages/setuptools-2.1-py2.7.egg/pkg_resources.py:975: UserWarning: /home/vagrant/.python-eggs is writable by group/others and vulnerable to attack when used with get_resource_filename. Consider a more secure location (set with .set_extraction_path or the PYTHON_EGG_CACHE environment variable).\n",
        "\n"
       ]
      }
     ],
     "prompt_number": 1
    },
    {
     "cell_type": "code",
     "collapsed": false,
     "input": [
      "ws = 'http://ws.spotify.com/lookup/1/.json?uri={0}'"
     ],
     "language": "python",
     "metadata": {},
     "outputs": [],
     "prompt_number": 2
    },
    {
     "cell_type": "code",
     "collapsed": false,
     "input": [
      "now = datetime.now()\n",
      "a_week = timedelta(weeks=1)\n",
      "this_week = [now - a_week, now]\n",
      "last_week = [dt - a_week for dt in this_week]\n",
      "print [str(i) for i in last_week]\n",
      "print [str(i) for i in this_week]"
     ],
     "language": "python",
     "metadata": {},
     "outputs": [
      {
       "output_type": "stream",
       "stream": "stdout",
       "text": [
        "['2014-01-10 17:07:17.704771', '2014-01-17 17:07:17.704771']\n",
        "['2014-01-17 17:07:17.704771', '2014-01-24 17:07:17.704771']\n"
       ]
      }
     ],
     "prompt_number": 3
    },
    {
     "cell_type": "heading",
     "level": 3,
     "metadata": {},
     "source": [
      "My Tracks"
     ]
    },
    {
     "cell_type": "code",
     "collapsed": false,
     "input": [
      "qs = ArchiveTrack.objects.filter(Q(play__created__range=this_week))\\\n",
      "        .annotate(plays=Count('play')).order_by('-plays')"
     ],
     "language": "python",
     "metadata": {},
     "outputs": [],
     "prompt_number": 4
    },
    {
     "cell_type": "code",
     "collapsed": false,
     "input": [
      "class Year:\n",
      "    request_count = 0\n",
      "    SLEEP = 1\n",
      "    RATE_INTERVAL = 5\n",
      "    \n",
      "    def __init__(self):\n",
      "        self.r = redis.StrictRedis()\n",
      "    \n",
      "    def get_year(self, spotify_id):\n",
      "        didsleep = False\n",
      "        key = 'year:{0}'.format(spotify_id)\n",
      "        year = self.r.get(key)\n",
      "        if year:\n",
      "            return year, didsleep\n",
      "\n",
      "        else:\n",
      "            if self.request_count % self.RATE_INTERVAL == 0:\n",
      "                print \"Pause\"\n",
      "                time.sleep(self.SLEEP)\n",
      "                didsleep = True\n",
      "                \n",
      "            self.request_count += 1                \n",
      "            res = requests.get(ws.format(spotify_id))\n",
      "            data = res.json()\n",
      "\n",
      "            try:\n",
      "                year = data['track']['album']['released']\n",
      "            except KeyError:\n",
      "                year = None\n",
      "                \n",
      "            self.r.set(key, year)\n",
      "            if year:\n",
      "                return year, didsleep\n"
     ],
     "language": "python",
     "metadata": {},
     "outputs": [],
     "prompt_number": 5
    },
    {
     "cell_type": "code",
     "collapsed": false,
     "input": [
      "consolodated = {}\n",
      "total = qs.count()\n",
      "y = Year()\n",
      "for count, item in enumerate(qs):\n",
      "    year, didsleep = y.get_year(item.spotify_href)\n",
      "    \n",
      "    if count % 10 == 0:\n",
      "        print float(count) / total * 100, '%', y.request_count\n",
      "\n",
      "    if not year:\n",
      "        pass\n",
      "\n",
      "    if year in consolodated:\n",
      "        consolodated[year].append(i)\n",
      "    else:\n",
      "        consolodated[year] = [i]"
     ],
     "language": "python",
     "metadata": {},
     "outputs": [
      {
       "output_type": "stream",
       "stream": "stdout",
       "text": [
        "0.0 % 0\n",
        "2.17864923747 % 0\n",
        "Pause\n",
        "4.35729847495"
       ]
      },
      {
       "output_type": "stream",
       "stream": "stdout",
       "text": [
        " % 1\n",
        "6.53594771242 % 2\n",
        "8.71459694989"
       ]
      },
      {
       "output_type": "stream",
       "stream": "stdout",
       "text": [
        " % 4\n",
        "10.8932461874 % 5\n",
        "Pause\n",
        "13.0718954248"
       ]
      },
      {
       "output_type": "stream",
       "stream": "stdout",
       "text": [
        " % 10\n",
        "Pause\n",
        "15.2505446623"
       ]
      },
      {
       "output_type": "stream",
       "stream": "stdout",
       "text": [
        " % 15\n",
        "Pause\n",
        "17.4291938998"
       ]
      },
      {
       "output_type": "stream",
       "stream": "stdout",
       "text": [
        " % 18\n",
        "19.6078431373"
       ]
      },
      {
       "output_type": "stream",
       "stream": "stdout",
       "text": [
        " % 20\n",
        "Pause\n",
        "21.7864923747"
       ]
      },
      {
       "output_type": "stream",
       "stream": "stdout",
       "text": [
        " % 21\n",
        "23.9651416122"
       ]
      },
      {
       "output_type": "stream",
       "stream": "stdout",
       "text": [
        " % 24\n",
        "Pause"
       ]
      },
      {
       "output_type": "stream",
       "stream": "stdout",
       "text": [
        "\n",
        "26.1437908497"
       ]
      },
      {
       "output_type": "stream",
       "stream": "stdout",
       "text": [
        " % 29\n",
        "Pause\n",
        "28.3224400871"
       ]
      },
      {
       "output_type": "stream",
       "stream": "stdout",
       "text": [
        " % 34\n",
        "Pause\n",
        "30.5010893246"
       ]
      },
      {
       "output_type": "stream",
       "stream": "stdout",
       "text": [
        " % 36\n",
        "32.6797385621 % 37\n",
        "34.8583877996"
       ]
      },
      {
       "output_type": "stream",
       "stream": "stdout",
       "text": [
        " % 38\n",
        "Pause"
       ]
      },
      {
       "output_type": "stream",
       "stream": "stdout",
       "text": [
        "\n",
        "37.037037037"
       ]
      },
      {
       "output_type": "stream",
       "stream": "stdout",
       "text": [
        " % 43\n",
        "Pause"
       ]
      },
      {
       "output_type": "stream",
       "stream": "stdout",
       "text": [
        "\n",
        "39.2156862745"
       ]
      },
      {
       "output_type": "stream",
       "stream": "stdout",
       "text": [
        " % 49\n",
        "Pause\n",
        "41.394335512"
       ]
      },
      {
       "output_type": "stream",
       "stream": "stdout",
       "text": [
        " % 51\n",
        "43.5729847495 % 51\n",
        "45.7516339869 % 51\n",
        "Pause"
       ]
      },
      {
       "output_type": "stream",
       "stream": "stdout",
       "text": [
        "\n",
        "47.9302832244"
       ]
      },
      {
       "output_type": "stream",
       "stream": "stdout",
       "text": [
        " % 56\n",
        "Pause"
       ]
      },
      {
       "output_type": "stream",
       "stream": "stdout",
       "text": [
        "\n",
        "50.1089324619"
       ]
      },
      {
       "output_type": "stream",
       "stream": "stdout",
       "text": [
        " % 61\n",
        "52.2875816993"
       ]
      },
      {
       "output_type": "stream",
       "stream": "stdout",
       "text": [
        " % 65\n",
        "Pause\n",
        "54.4662309368"
       ]
      },
      {
       "output_type": "stream",
       "stream": "stdout",
       "text": [
        " % 66\n",
        "56.6448801743"
       ]
      },
      {
       "output_type": "stream",
       "stream": "stdout",
       "text": [
        " % 67\n",
        "58.8235294118"
       ]
      },
      {
       "output_type": "stream",
       "stream": "stdout",
       "text": [
        " % 69\n",
        "Pause\n",
        "Pause"
       ]
      },
      {
       "output_type": "stream",
       "stream": "stdout",
       "text": [
        "\n",
        "61.0021786492"
       ]
      },
      {
       "output_type": "stream",
       "stream": "stdout",
       "text": [
        " % 76\n",
        "Pause"
       ]
      },
      {
       "output_type": "stream",
       "stream": "stdout",
       "text": [
        "\n",
        "63.1808278867"
       ]
      },
      {
       "output_type": "stream",
       "stream": "stdout",
       "text": [
        " % 81\n",
        "65.3594771242 % 82\n",
        "67.5381263617 % 82\n",
        "69.7167755991 % 82\n",
        "Pause"
       ]
      },
      {
       "output_type": "stream",
       "stream": "stdout",
       "text": [
        "\n",
        "71.8954248366"
       ]
      },
      {
       "output_type": "stream",
       "stream": "stdout",
       "text": [
        " % 87\n",
        "Pause"
       ]
      },
      {
       "output_type": "stream",
       "stream": "stdout",
       "text": [
        "\n",
        "74.0740740741"
       ]
      },
      {
       "output_type": "stream",
       "stream": "stdout",
       "text": [
        " % 92\n",
        "Pause"
       ]
      },
      {
       "output_type": "stream",
       "stream": "stdout",
       "text": [
        "\n",
        "76.2527233115"
       ]
      },
      {
       "output_type": "stream",
       "stream": "stdout",
       "text": [
        " % 96\n",
        "78.431372549 % 97\n",
        "80.6100217865"
       ]
      },
      {
       "output_type": "stream",
       "stream": "stdout",
       "text": [
        " % 98\n",
        "82.788671024"
       ]
      },
      {
       "output_type": "stream",
       "stream": "stdout",
       "text": [
        " % 100\n",
        "Pause\n",
        "84.9673202614"
       ]
      },
      {
       "output_type": "stream",
       "stream": "stdout",
       "text": [
        " % 105\n",
        "Pause\n",
        "87.1459694989"
       ]
      },
      {
       "output_type": "stream",
       "stream": "stdout",
       "text": [
        " % 110\n",
        "Pause\n",
        "89.3246187364"
       ]
      },
      {
       "output_type": "stream",
       "stream": "stdout",
       "text": [
        " % 113\n",
        "91.5032679739 % 114\n",
        "93.6819172113"
       ]
      },
      {
       "output_type": "stream",
       "stream": "stdout",
       "text": [
        " % 115\n",
        "Pause\n",
        "95.8605664488"
       ]
      },
      {
       "output_type": "stream",
       "stream": "stdout",
       "text": [
        " % 120\n",
        "Pause\n",
        "98.0392156863"
       ]
      },
      {
       "output_type": "stream",
       "stream": "stdout",
       "text": [
        " % 125\n",
        "Pause\n"
       ]
      }
     ],
     "prompt_number": 6
    },
    {
     "cell_type": "code",
     "collapsed": false,
     "input": [
      "consolodated = collections.OrderedDict(sorted(consolodated.items()))\n",
      "for year, tracks in consolodated.iteritems():\n",
      "    print year, len(tracks)"
     ],
     "language": "python",
     "metadata": {},
     "outputs": [
      {
       "output_type": "stream",
       "stream": "stdout",
       "text": [
        "1958 1\n",
        "1967 2\n",
        "1969 3\n",
        "1970 1\n",
        "1971 4\n",
        "1972 1\n",
        "1973 1\n",
        "1975 1\n",
        "1976 3\n",
        "1977 3\n",
        "1978 1\n",
        "1979 1\n",
        "1980 2\n",
        "1983 2\n",
        "1984 1\n",
        "1986 1\n",
        "1987 2\n",
        "1989 2\n",
        "1990 4\n",
        "1991 4\n",
        "1992 9\n",
        "1993 10\n",
        "1994 11\n",
        "1995 9\n",
        "1996 4\n",
        "1997 7\n",
        "1998 7\n",
        "1999 12\n",
        "2000 8\n",
        "2001 10\n",
        "2002 9\n",
        "2003 13\n",
        "2004 7\n",
        "2005 9\n",
        "2006 17\n",
        "2007 35\n",
        "2008 22\n",
        "2009 28\n",
        "2010 40\n",
        "2011 36\n",
        "2012 40\n",
        "2013 74\n",
        "2014 1\n",
        "None 1\n"
       ]
      }
     ],
     "prompt_number": 7
    },
    {
     "cell_type": "code",
     "collapsed": false,
     "input": [
      "py = plotly.plotly(username_or_email='EricGeorge', key='cp9m5tn1ix')"
     ],
     "language": "python",
     "metadata": {},
     "outputs": [],
     "prompt_number": 8
    },
    {
     "cell_type": "code",
     "collapsed": false,
     "input": [
      "l = {'autosize': False,'width': 1200, 'height': 600, 'showlegend': False,\n",
      " \t'xaxis' : {\"linecolor\": \"rgba(0, 0, 0, 0)\",\"ticks\":\"\", \n",
      "                \"showgrid\": True, \"zeroline\": False, \"showticklabels\": True},\n",
      "\t    \n",
      "\t 'yaxis' : {\"linecolor\": \"rgba(0, 0, 0, 0)\", \"ticks\": \"\",\n",
      "                \"showgrid\": True, \"zeroline\": True, \"showticklabels\": True}}"
     ],
     "language": "python",
     "metadata": {},
     "outputs": [],
     "prompt_number": 9
    },
    {
     "cell_type": "code",
     "collapsed": false,
     "input": [
      "py.iplot([{'y': [len(i) for i in consolodated.values()],\n",
      "           'x': consolodated.keys(),\n",
      "           'type': 'bar'}], layout=l)"
     ],
     "language": "python",
     "metadata": {},
     "outputs": [
      {
       "html": [
        "<iframe height=\"500\" id=\"igraph\" scrolling=\"no\" seamless=\"seamless\" src=\"https://plot.ly/~EricGeorge/18/600/450\" width=\"650\"></iframe>"
       ],
       "output_type": "pyout",
       "prompt_number": 10,
       "text": [
        "<IPython.core.display.HTML at 0xaaf1f6c>"
       ]
      }
     ],
     "prompt_number": 10
    },
    {
     "cell_type": "heading",
     "level": 3,
     "metadata": {},
     "source": [
      "Total Play time"
     ]
    },
    {
     "cell_type": "code",
     "collapsed": false,
     "input": [
      "qs = Play.objects.filter(Q(created__range=this_week))"
     ],
     "language": "python",
     "metadata": {},
     "outputs": [],
     "prompt_number": 8
    },
    {
     "cell_type": "code",
     "collapsed": false,
     "input": [
      "td = timedelta(seconds=sum([p.track.length for p in qs]))"
     ],
     "language": "python",
     "metadata": {},
     "outputs": [],
     "prompt_number": 11
    },
    {
     "cell_type": "code",
     "collapsed": false,
     "input": [
      "td"
     ],
     "language": "python",
     "metadata": {},
     "outputs": [
      {
       "output_type": "pyout",
       "prompt_number": 15,
       "text": [
        "datetime.timedelta(1, 11820, 735000)"
       ]
      }
     ],
     "prompt_number": 15
    },
    {
     "cell_type": "code",
     "collapsed": false,
     "input": [],
     "language": "python",
     "metadata": {},
     "outputs": []
    }
   ],
   "metadata": {}
  }
 ]
}